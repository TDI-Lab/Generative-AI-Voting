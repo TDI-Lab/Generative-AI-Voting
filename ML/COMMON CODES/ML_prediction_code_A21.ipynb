{
 "cells": [
  {
   "cell_type": "code",
   "execution_count": 11,
   "metadata": {},
   "outputs": [
    {
     "name": "stdout",
     "output_type": "stream",
     "text": [
      "171/171 [==============================] - 0s 2ms/step\n"
     ]
    }
   ],
   "source": [
    "import pandas as pd\n",
    "from sklearn.preprocessing import MinMaxScaler\n",
    "import tensorflow as tf\n",
    "import numpy as np\n",
    "\n",
    "dataset = 'c:/Users/Desktop/ANES/ANES/Gen_AI_Outputs/A21_GPT_LLAMA_PREDICTION_2020.xlsx'\n",
    "\n",
    "columns = ['Race', 'Discuss politics', 'Ideology', 'Political orientation', 'Church_goer', 'Age_value', 'Gender', 'Political interest']\n",
    "df = pd.read_excel(dataset, usecols=columns, engine='openpyxl')\n",
    "scaler = MinMaxScaler()\n",
    "data_X = scaler.fit_transform(df)\n",
    "normalizer = tf.keras.layers.Normalization(axis=-1)\n",
    "normalizer.adapt(data_X)\n",
    "time_steps = 4\n",
    "features = 2\n",
    "reshaped_testX = data_X.reshape(-1, time_steps, features)\n",
    "\n",
    "model = tf.keras.models.load_model('c:/Users/Desktop/ANES/ANES/ML/MODELWISE/2020/LLAMA/rnn_model.keras')\n",
    "predict = model.predict(reshaped_testX)\n",
    "predictions = np.argmax(predict, axis=1)\n",
    "df1 = pd.read_excel(dataset)\n",
    "for index, row in df1.iterrows():\n",
    "    df1.at[index, 'ML_A21_llama'] = (predictions[index]+1)\n",
    "df1.to_excel(dataset, index=False)\n"
   ]
  }
 ],
 "metadata": {
  "kernelspec": {
   "display_name": "Python 3",
   "language": "python",
   "name": "python3"
  },
  "language_info": {
   "codemirror_mode": {
    "name": "ipython",
    "version": 3
   },
   "file_extension": ".py",
   "mimetype": "text/x-python",
   "name": "python",
   "nbconvert_exporter": "python",
   "pygments_lexer": "ipython3",
   "version": "3.10.0"
  }
 },
 "nbformat": 4,
 "nbformat_minor": 2
}
