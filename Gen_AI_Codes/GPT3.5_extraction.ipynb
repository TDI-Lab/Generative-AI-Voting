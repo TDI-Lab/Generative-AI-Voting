{
 "cells": [
  {
   "cell_type": "code",
   "execution_count": 1,
   "metadata": {},
   "outputs": [],
   "source": [
    "import os\n",
    "import openai\n",
    "import pandas as pd\n",
    "import time\n",
    "\n",
    "path = ''\n",
    "\n",
    "# openai.ChatCompletion.create(\n",
    "#   model=\"gpt-3.5-turbo\",\n",
    "#   messages=[\n",
    "#         {\"role\": \"system\", \"content\": \"You are a helpful assistant.\"},\n",
    "#         {\"role\": \"user\", \"content\": \"Who won the world series in 2020?\"},\n",
    "#         {\"role\": \"assistant\", \"content\": \"The Los Angeles Dodgers won the World Series in 2020.\"},\n",
    "#         {\"role\": \"user\", \"content\": \"Where was it played?\"}\n",
    "#     ]\n",
    "# )"
   ]
  },
  {
   "cell_type": "code",
   "execution_count": 2,
   "metadata": {},
   "outputs": [],
   "source": [
    "# Load your API key from an environment variable or secret management service\n",
    "# openai.api_key = \"sk-ld6CjEHbmQDLjjARfqdhfkjehfkeh1c0PIfrkTg3svsFAe\"\n",
    "openai.api_key = \"sk-ld6CjEHbmQDLjjARfqdhfkjehfkeh1c0PIfrkTg3svsFAe\""
   ]
  },
  {
   "cell_type": "code",
   "execution_count": 3,
   "metadata": {},
   "outputs": [],
   "source": [
    "messages=[\n",
    "        {\"role\": \"system\", \"content\": \"You are a helpful assistant.\"},\n",
    "]"
   ]
  },
  {
   "cell_type": "code",
   "execution_count": 4,
   "metadata": {},
   "outputs": [
    {
     "name": "stdout",
     "output_type": "stream",
     "text": [
      "1\n",
      "2\n",
           ]
    }
   ],
   "source": [
    "df = pd.read_excel(os.path.join(path,\"505_query.xlsx\"))\n",
    "count = 0\n",
    "count1 = 0 \n",
    "count2 = 0\n",
    "for index, row in df.iterrows():\n",
    "    if index>=407:\n",
    "        message = df.at[index, 'Query_Single_Choice']\n",
    "        # if message==\"Null\":\n",
    "        #     df.at[index, 'GPT_3.5_Single_Choice'] = \"Null\"\n",
    "        #     continue\n",
    "        messages.append(\n",
    "            {\"role\": \"user\", \"content\": message},\n",
    "        )\n",
    "        chat = openai.ChatCompletion.create(\n",
    "            model=\"gpt-3.5-turbo\", temperature=0,\n",
    "            messages=messages\n",
    "        )\n",
    "        reply = chat.choices[0].message.content\n",
    "        df.at[index, 'GPT_3.5_Single_Choice'] = reply\n",
    "        messages.append({\"role\": \"assistant\", \"content\": reply})\n",
    "        count = count+1\n",
    "        count1 = count1 + 1\n",
    "        count2+=1\n",
    "        print(count2)\n",
    "        if count==1:\n",
    "            count = 0 \n",
    "            messages=[\n",
    "                    {\"role\": \"system\", \"content\": \"You are a helpful assistant.\"},\n",
    "            ]\n",
    "        if count1==20:\n",
    "            count1=0\n",
    "            df.to_excel(os.path.join(path,'505_query.xlsx'), index=False)\n",
    "            # time.sleep(10)"
   ]
  },
  {
   "cell_type": "code",
   "execution_count": 7,
   "metadata": {},
   "outputs": [],
   "source": [
    "df.to_excel(os.path.join(path,'ANES_query.xlsx'), index=False)"
   ]
  },
  {
   "cell_type": "code",
   "execution_count": 6,
   "metadata": {},
   "outputs": [],
   "source": [
    "# while True:\n",
    "#     message = input(\"User : \")\n",
    "#     if message:\n",
    "#         messa gesz.append(\n",
    "#             {\"role\": \"user\", \"content\": message},\n",
    "#         )\n",
    "#         chat = openai.ChatCompletion.create(\n",
    "#             model=\"gpt-3.5-turbo\",\n",
    "#             messages=messages\n",
    "#         )\n",
    "#     reply = chat.choices[0].message.content\n",
    "#     print(f\"ChatGPT: {reply}\")\n",
    "#     messages.append({\"role\": \"assistant\", \"content\": reply})"
   ]
  }
 ],
 "metadata": {
  "kernelspec": {
   "display_name": "Python 3",
   "language": "python",
   "name": "python3"
  },
  "language_info": {
   "codemirror_mode": {
    "name": "ipython",
    "version": 3
   },
   "file_extension": ".py",
   "mimetype": "text/x-python",
   "name": "python",
   "nbconvert_exporter": "python",
   "pygments_lexer": "ipython3",
   "version": "3.10.0"
  },
  "orig_nbformat": 4
 },
 "nbformat": 4,
 "nbformat_minor": 2
}
